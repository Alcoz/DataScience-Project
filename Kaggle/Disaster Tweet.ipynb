{
 "cells": [
  {
   "cell_type": "code",
   "execution_count": 1,
   "id": "10069347",
   "metadata": {},
   "outputs": [],
   "source": [
    "import numpy as np\n",
    "import pandas as pd\n",
    "\n",
    "import matplotlib.pyplot as plt\n",
    "import seaborn as sns\n",
    "\n",
    "%matplotlib inline"
   ]
  },
  {
   "cell_type": "code",
   "execution_count": 2,
   "id": "b29f4760",
   "metadata": {},
   "outputs": [],
   "source": [
    "train_df = pd.read_csv(\"data/nlp-getting-started/train.csv\")\n",
    "test_df = pd.read_csv(\"data/nlp-getting-started/test.csv\")"
   ]
  },
  {
   "cell_type": "code",
   "execution_count": 3,
   "id": "49354ccc",
   "metadata": {},
   "outputs": [
    {
     "data": {
      "text/html": [
       "<div>\n",
       "<style scoped>\n",
       "    .dataframe tbody tr th:only-of-type {\n",
       "        vertical-align: middle;\n",
       "    }\n",
       "\n",
       "    .dataframe tbody tr th {\n",
       "        vertical-align: top;\n",
       "    }\n",
       "\n",
       "    .dataframe thead th {\n",
       "        text-align: right;\n",
       "    }\n",
       "</style>\n",
       "<table border=\"1\" class=\"dataframe\">\n",
       "  <thead>\n",
       "    <tr style=\"text-align: right;\">\n",
       "      <th></th>\n",
       "      <th>id</th>\n",
       "      <th>keyword</th>\n",
       "      <th>location</th>\n",
       "      <th>text</th>\n",
       "      <th>target</th>\n",
       "    </tr>\n",
       "  </thead>\n",
       "  <tbody>\n",
       "    <tr>\n",
       "      <th>0</th>\n",
       "      <td>1</td>\n",
       "      <td>NaN</td>\n",
       "      <td>NaN</td>\n",
       "      <td>Our Deeds are the Reason of this #earthquake M...</td>\n",
       "      <td>1</td>\n",
       "    </tr>\n",
       "    <tr>\n",
       "      <th>1</th>\n",
       "      <td>4</td>\n",
       "      <td>NaN</td>\n",
       "      <td>NaN</td>\n",
       "      <td>Forest fire near La Ronge Sask. Canada</td>\n",
       "      <td>1</td>\n",
       "    </tr>\n",
       "    <tr>\n",
       "      <th>2</th>\n",
       "      <td>5</td>\n",
       "      <td>NaN</td>\n",
       "      <td>NaN</td>\n",
       "      <td>All residents asked to 'shelter in place' are ...</td>\n",
       "      <td>1</td>\n",
       "    </tr>\n",
       "    <tr>\n",
       "      <th>3</th>\n",
       "      <td>6</td>\n",
       "      <td>NaN</td>\n",
       "      <td>NaN</td>\n",
       "      <td>13,000 people receive #wildfires evacuation or...</td>\n",
       "      <td>1</td>\n",
       "    </tr>\n",
       "    <tr>\n",
       "      <th>4</th>\n",
       "      <td>7</td>\n",
       "      <td>NaN</td>\n",
       "      <td>NaN</td>\n",
       "      <td>Just got sent this photo from Ruby #Alaska as ...</td>\n",
       "      <td>1</td>\n",
       "    </tr>\n",
       "  </tbody>\n",
       "</table>\n",
       "</div>"
      ],
      "text/plain": [
       "   id keyword location                                               text  \\\n",
       "0   1     NaN      NaN  Our Deeds are the Reason of this #earthquake M...   \n",
       "1   4     NaN      NaN             Forest fire near La Ronge Sask. Canada   \n",
       "2   5     NaN      NaN  All residents asked to 'shelter in place' are ...   \n",
       "3   6     NaN      NaN  13,000 people receive #wildfires evacuation or...   \n",
       "4   7     NaN      NaN  Just got sent this photo from Ruby #Alaska as ...   \n",
       "\n",
       "   target  \n",
       "0       1  \n",
       "1       1  \n",
       "2       1  \n",
       "3       1  \n",
       "4       1  "
      ]
     },
     "execution_count": 3,
     "metadata": {},
     "output_type": "execute_result"
    }
   ],
   "source": [
    "train_df.head()"
   ]
  },
  {
   "cell_type": "code",
   "execution_count": 4,
   "id": "b3be4bce",
   "metadata": {},
   "outputs": [
    {
     "data": {
      "text/html": [
       "<div>\n",
       "<style scoped>\n",
       "    .dataframe tbody tr th:only-of-type {\n",
       "        vertical-align: middle;\n",
       "    }\n",
       "\n",
       "    .dataframe tbody tr th {\n",
       "        vertical-align: top;\n",
       "    }\n",
       "\n",
       "    .dataframe thead th {\n",
       "        text-align: right;\n",
       "    }\n",
       "</style>\n",
       "<table border=\"1\" class=\"dataframe\">\n",
       "  <thead>\n",
       "    <tr style=\"text-align: right;\">\n",
       "      <th></th>\n",
       "      <th>id</th>\n",
       "      <th>keyword</th>\n",
       "      <th>location</th>\n",
       "      <th>text</th>\n",
       "    </tr>\n",
       "  </thead>\n",
       "  <tbody>\n",
       "    <tr>\n",
       "      <th>0</th>\n",
       "      <td>0</td>\n",
       "      <td>NaN</td>\n",
       "      <td>NaN</td>\n",
       "      <td>Just happened a terrible car crash</td>\n",
       "    </tr>\n",
       "    <tr>\n",
       "      <th>1</th>\n",
       "      <td>2</td>\n",
       "      <td>NaN</td>\n",
       "      <td>NaN</td>\n",
       "      <td>Heard about #earthquake is different cities, s...</td>\n",
       "    </tr>\n",
       "    <tr>\n",
       "      <th>2</th>\n",
       "      <td>3</td>\n",
       "      <td>NaN</td>\n",
       "      <td>NaN</td>\n",
       "      <td>there is a forest fire at spot pond, geese are...</td>\n",
       "    </tr>\n",
       "    <tr>\n",
       "      <th>3</th>\n",
       "      <td>9</td>\n",
       "      <td>NaN</td>\n",
       "      <td>NaN</td>\n",
       "      <td>Apocalypse lighting. #Spokane #wildfires</td>\n",
       "    </tr>\n",
       "    <tr>\n",
       "      <th>4</th>\n",
       "      <td>11</td>\n",
       "      <td>NaN</td>\n",
       "      <td>NaN</td>\n",
       "      <td>Typhoon Soudelor kills 28 in China and Taiwan</td>\n",
       "    </tr>\n",
       "  </tbody>\n",
       "</table>\n",
       "</div>"
      ],
      "text/plain": [
       "   id keyword location                                               text\n",
       "0   0     NaN      NaN                 Just happened a terrible car crash\n",
       "1   2     NaN      NaN  Heard about #earthquake is different cities, s...\n",
       "2   3     NaN      NaN  there is a forest fire at spot pond, geese are...\n",
       "3   9     NaN      NaN           Apocalypse lighting. #Spokane #wildfires\n",
       "4  11     NaN      NaN      Typhoon Soudelor kills 28 in China and Taiwan"
      ]
     },
     "execution_count": 4,
     "metadata": {},
     "output_type": "execute_result"
    }
   ],
   "source": [
    "test_df.head()"
   ]
  },
  {
   "cell_type": "code",
   "execution_count": 5,
   "id": "9a3b2635",
   "metadata": {},
   "outputs": [
    {
     "name": "stdout",
     "output_type": "stream",
     "text": [
      "<class 'pandas.core.frame.DataFrame'>\n",
      "RangeIndex: 7613 entries, 0 to 7612\n",
      "Data columns (total 5 columns):\n",
      " #   Column    Non-Null Count  Dtype \n",
      "---  ------    --------------  ----- \n",
      " 0   id        7613 non-null   int64 \n",
      " 1   keyword   7552 non-null   object\n",
      " 2   location  5080 non-null   object\n",
      " 3   text      7613 non-null   object\n",
      " 4   target    7613 non-null   int64 \n",
      "dtypes: int64(2), object(3)\n",
      "memory usage: 297.5+ KB\n"
     ]
    }
   ],
   "source": [
    "train_df.info()"
   ]
  },
  {
   "cell_type": "code",
   "execution_count": 6,
   "id": "51f61a94",
   "metadata": {},
   "outputs": [
    {
     "name": "stdout",
     "output_type": "stream",
     "text": [
      "<class 'pandas.core.frame.DataFrame'>\n",
      "RangeIndex: 3263 entries, 0 to 3262\n",
      "Data columns (total 4 columns):\n",
      " #   Column    Non-Null Count  Dtype \n",
      "---  ------    --------------  ----- \n",
      " 0   id        3263 non-null   int64 \n",
      " 1   keyword   3237 non-null   object\n",
      " 2   location  2158 non-null   object\n",
      " 3   text      3263 non-null   object\n",
      "dtypes: int64(1), object(3)\n",
      "memory usage: 102.1+ KB\n"
     ]
    }
   ],
   "source": [
    "test_df.info()"
   ]
  },
  {
   "cell_type": "markdown",
   "id": "0d0da705",
   "metadata": {},
   "source": [
    "Premier apperçus des données, il y a des données manquantes sur la localisation, et sur les keyword. Il faut faire une analyse des données pour voir si les données sont intéressantes et si il faut définir une stratégie de remplissage."
   ]
  },
  {
   "cell_type": "markdown",
   "id": "b6f92a9b",
   "metadata": {},
   "source": [
    "# Analyse des données manquantes"
   ]
  },
  {
   "cell_type": "markdown",
   "id": "d6c8e43c",
   "metadata": {},
   "source": [
    "## Keyword"
   ]
  },
  {
   "cell_type": "code",
   "execution_count": 7,
   "id": "9536e43a",
   "metadata": {},
   "outputs": [],
   "source": [
    "keyword = train_df[\"keyword\"]"
   ]
  },
  {
   "cell_type": "code",
   "execution_count": 8,
   "id": "f1d9ff07",
   "metadata": {},
   "outputs": [
    {
     "data": {
      "text/plain": [
       "array([nan, 'ablaze', 'accident', 'aftershock', 'airplane%20accident',\n",
       "       'ambulance', 'annihilated', 'annihilation', 'apocalypse',\n",
       "       'armageddon', 'army', 'arson', 'arsonist', 'attack', 'attacked',\n",
       "       'avalanche', 'battle', 'bioterror', 'bioterrorism', 'blaze',\n",
       "       'blazing', 'bleeding', 'blew%20up', 'blight', 'blizzard', 'blood',\n",
       "       'bloody', 'blown%20up', 'body%20bag', 'body%20bagging',\n",
       "       'body%20bags', 'bomb', 'bombed', 'bombing', 'bridge%20collapse',\n",
       "       'buildings%20burning', 'buildings%20on%20fire', 'burned',\n",
       "       'burning', 'burning%20buildings', 'bush%20fires', 'casualties',\n",
       "       'casualty', 'catastrophe', 'catastrophic', 'chemical%20emergency',\n",
       "       'cliff%20fall', 'collapse', 'collapsed', 'collide', 'collided',\n",
       "       'collision', 'crash', 'crashed', 'crush', 'crushed', 'curfew',\n",
       "       'cyclone', 'damage', 'danger', 'dead', 'death', 'deaths', 'debris',\n",
       "       'deluge', 'deluged', 'demolish', 'demolished', 'demolition',\n",
       "       'derail', 'derailed', 'derailment', 'desolate', 'desolation',\n",
       "       'destroy', 'destroyed', 'destruction', 'detonate', 'detonation',\n",
       "       'devastated', 'devastation', 'disaster', 'displaced', 'drought',\n",
       "       'drown', 'drowned', 'drowning', 'dust%20storm', 'earthquake',\n",
       "       'electrocute', 'electrocuted', 'emergency', 'emergency%20plan',\n",
       "       'emergency%20services', 'engulfed', 'epicentre', 'evacuate',\n",
       "       'evacuated', 'evacuation', 'explode', 'exploded', 'explosion',\n",
       "       'eyewitness', 'famine', 'fatal', 'fatalities', 'fatality', 'fear',\n",
       "       'fire', 'fire%20truck', 'first%20responders', 'flames',\n",
       "       'flattened', 'flood', 'flooding', 'floods', 'forest%20fire',\n",
       "       'forest%20fires', 'hail', 'hailstorm', 'harm', 'hazard',\n",
       "       'hazardous', 'heat%20wave', 'hellfire', 'hijack', 'hijacker',\n",
       "       'hijacking', 'hostage', 'hostages', 'hurricane', 'injured',\n",
       "       'injuries', 'injury', 'inundated', 'inundation', 'landslide',\n",
       "       'lava', 'lightning', 'loud%20bang', 'mass%20murder',\n",
       "       'mass%20murderer', 'massacre', 'mayhem', 'meltdown', 'military',\n",
       "       'mudslide', 'natural%20disaster', 'nuclear%20disaster',\n",
       "       'nuclear%20reactor', 'obliterate', 'obliterated', 'obliteration',\n",
       "       'oil%20spill', 'outbreak', 'pandemonium', 'panic', 'panicking',\n",
       "       'police', 'quarantine', 'quarantined', 'radiation%20emergency',\n",
       "       'rainstorm', 'razed', 'refugees', 'rescue', 'rescued', 'rescuers',\n",
       "       'riot', 'rioting', 'rubble', 'ruin', 'sandstorm', 'screamed',\n",
       "       'screaming', 'screams', 'seismic', 'sinkhole', 'sinking', 'siren',\n",
       "       'sirens', 'smoke', 'snowstorm', 'storm', 'stretcher',\n",
       "       'structural%20failure', 'suicide%20bomb', 'suicide%20bomber',\n",
       "       'suicide%20bombing', 'sunk', 'survive', 'survived', 'survivors',\n",
       "       'terrorism', 'terrorist', 'threat', 'thunder', 'thunderstorm',\n",
       "       'tornado', 'tragedy', 'trapped', 'trauma', 'traumatised',\n",
       "       'trouble', 'tsunami', 'twister', 'typhoon', 'upheaval',\n",
       "       'violent%20storm', 'volcano', 'war%20zone', 'weapon', 'weapons',\n",
       "       'whirlwind', 'wild%20fires', 'wildfire', 'windstorm', 'wounded',\n",
       "       'wounds', 'wreck', 'wreckage', 'wrecked'], dtype=object)"
      ]
     },
     "execution_count": 8,
     "metadata": {},
     "output_type": "execute_result"
    }
   ],
   "source": [
    "keyword.unique()"
   ]
  },
  {
   "cell_type": "markdown",
   "id": "d9afeabe",
   "metadata": {},
   "source": [
    "Le manque de keyword indique un manque de mot clés. Pour ramplir et éviter d'avoir des valeurs nuls, je vais les changer par des strings vides.\n",
    "\n",
    "Pour la suite, je pense que ce serait bien de trouver d'une manière ou d'une autres les mots les plus significatifs d'un désastre par analyse sémantique."
   ]
  },
  {
   "cell_type": "code",
   "execution_count": 9,
   "id": "9bfed6ed",
   "metadata": {},
   "outputs": [],
   "source": [
    "train_df[\"keyword\"] = train_df[\"keyword\"].fillna(\"\")"
   ]
  },
  {
   "cell_type": "code",
   "execution_count": 10,
   "id": "e321ace3",
   "metadata": {},
   "outputs": [
    {
     "data": {
      "text/plain": [
       "222"
      ]
     },
     "execution_count": 10,
     "metadata": {},
     "output_type": "execute_result"
    }
   ],
   "source": [
    "len(train_df[\"keyword\"].unique())"
   ]
  },
  {
   "cell_type": "markdown",
   "id": "2ed31d69",
   "metadata": {},
   "source": [
    "## Location"
   ]
  },
  {
   "cell_type": "code",
   "execution_count": 11,
   "id": "85aed7a8",
   "metadata": {},
   "outputs": [],
   "source": [
    "location = train_df[\"location\"]"
   ]
  },
  {
   "cell_type": "code",
   "execution_count": 12,
   "id": "d1e357cf",
   "metadata": {},
   "outputs": [
    {
     "data": {
      "text/plain": [
       "array([nan, 'Birmingham', 'Est. September 2012 - Bristol', ...,\n",
       "       'Vancouver, Canada', 'London ', 'Lincoln'], dtype=object)"
      ]
     },
     "execution_count": 12,
     "metadata": {},
     "output_type": "execute_result"
    }
   ],
   "source": [
    "location.unique()"
   ]
  },
  {
   "cell_type": "code",
   "execution_count": 13,
   "id": "0a1c65f1",
   "metadata": {},
   "outputs": [
    {
     "data": {
      "text/plain": [
       "3342"
      ]
     },
     "execution_count": 13,
     "metadata": {},
     "output_type": "execute_result"
    }
   ],
   "source": [
    "len(location.unique())"
   ]
  },
  {
   "cell_type": "markdown",
   "id": "d15952c8",
   "metadata": {},
   "source": [
    "Le nombre de valeur unique et la pertinence entre la location du tweet et le fait que ce soit un désastre me semble faible. Le manque de donnée n'aidant pas, je vais supprimer la colonnes."
   ]
  },
  {
   "cell_type": "code",
   "execution_count": 14,
   "id": "23c19f40",
   "metadata": {},
   "outputs": [],
   "source": [
    "train_df.drop(\"location\", axis=1, inplace=True)\n",
    "test_df.drop(\"location\", axis=1, inplace=True)"
   ]
  },
  {
   "cell_type": "markdown",
   "id": "fffade9b",
   "metadata": {},
   "source": [
    "Avant de me lancer dans l'analyse du texte, j'aimerais voir d'abord si les mots clés des tweets sont un bon indicateur du désastre."
   ]
  },
  {
   "cell_type": "markdown",
   "id": "384bf2d5",
   "metadata": {},
   "source": [
    "# Analyse des mots clés et lien avec le désastre\n",
    "\n",
    "Pour chaque mot clés, je vais calculer le nombre de tweet où le mot apparait et est un désastre sur le nombre de tweet où il apparait."
   ]
  },
  {
   "cell_type": "code",
   "execution_count": 15,
   "id": "55bcfa8a",
   "metadata": {},
   "outputs": [],
   "source": [
    "unique_keywords = train_df[\"keyword\"].unique()"
   ]
  },
  {
   "cell_type": "code",
   "execution_count": 16,
   "id": "94cf0281",
   "metadata": {},
   "outputs": [],
   "source": [
    "disaster_keywords = {}\n",
    "\n",
    "for keyword in unique_keywords:\n",
    "    df_keyword = train_df[train_df[\"keyword\"] == keyword]\n",
    "    df_keyword_disaster = df_keyword[df_keyword[\"target\"] == 1]\n",
    "    disaster_keywords[keyword] = len(df_keyword_disaster) / len(df_keyword) "
   ]
  },
  {
   "cell_type": "code",
   "execution_count": 17,
   "id": "44d8e0db",
   "metadata": {},
   "outputs": [],
   "source": [
    "disaster_keywords = {k : v for k, v in sorted(disaster_keywords.items(), key=lambda item: item[1], reverse = True)}"
   ]
  },
  {
   "cell_type": "code",
   "execution_count": 18,
   "id": "85ad9b92",
   "metadata": {},
   "outputs": [
    {
     "data": {
      "text/plain": [
       "{'debris': 1.0,\n",
       " 'derailment': 1.0,\n",
       " 'wreckage': 1.0,\n",
       " 'outbreak': 0.975,\n",
       " 'oil%20spill': 0.9736842105263158,\n",
       " 'typhoon': 0.9736842105263158,\n",
       " 'suicide%20bombing': 0.9696969696969697,\n",
       " 'suicide%20bomber': 0.967741935483871,\n",
       " 'bombing': 0.9310344827586207,\n",
       " 'rescuers': 0.9142857142857143,\n",
       " 'suicide%20bomb': 0.9142857142857143,\n",
       " 'nuclear%20disaster': 0.9117647058823529,\n",
       " 'evacuated': 0.8888888888888888,\n",
       " 'razed': 0.8857142857142857,\n",
       " 'wildfire': 0.8787878787878788,\n",
       " 'wild%20fires': 0.8709677419354839,\n",
       " 'airplane%20accident': 0.8571428571428571,\n",
       " 'buildings%20on%20fire': 0.8484848484848485,\n",
       " 'mass%20murder': 0.8484848484848485,\n",
       " 'forest%20fires': 0.84375,\n",
       " 'bridge%20collapse': 0.8285714285714286,\n",
       " 'casualties': 0.8,\n",
       " 'drought': 0.8,\n",
       " 'forest%20fire': 0.7894736842105263,\n",
       " 'thunderstorm': 0.7878787878787878,\n",
       " 'violent%20storm': 0.7878787878787878,\n",
       " 'evacuation': 0.7777777777777778,\n",
       " 'earthquake': 0.7692307692307693,\n",
       " 'sandstorm': 0.7567567567567568,\n",
       " 'devastation': 0.75,\n",
       " 'hailstorm': 0.75,\n",
       " 'collision': 0.7435897435897436,\n",
       " 'terrorist': 0.7419354838709677,\n",
       " 'heat%20wave': 0.7352941176470589,\n",
       " 'hostages': 0.7297297297297297,\n",
       " 'displaced': 0.7222222222222222,\n",
       " 'floods': 0.7222222222222222,\n",
       " 'bush%20fires': 0.72,\n",
       " 'terrorism': 0.7058823529411765,\n",
       " 'wounded': 0.7027027027027027,\n",
       " 'bioterrorism': 0.7,\n",
       " 'survivors': 0.7,\n",
       " 'attack': 0.6944444444444444,\n",
       " 'massacre': 0.6944444444444444,\n",
       " 'sinkhole': 0.6923076923076923,\n",
       " '': 0.6885245901639344,\n",
       " 'arson': 0.6875,\n",
       " 'accident': 0.6857142857142857,\n",
       " 'buildings%20burning': 0.6857142857142857,\n",
       " 'injured': 0.6857142857142857,\n",
       " 'deaths': 0.6842105263157895,\n",
       " 'derailed': 0.6842105263157895,\n",
       " 'fatal': 0.6842105263157895,\n",
       " 'catastrophic': 0.6666666666666666,\n",
       " 'dust%20storm': 0.6666666666666666,\n",
       " 'famine': 0.6666666666666666,\n",
       " 'fire%20truck': 0.6666666666666666,\n",
       " 'volcano': 0.6666666666666666,\n",
       " 'flooding': 0.6578947368421053,\n",
       " 'rioting': 0.6571428571428571,\n",
       " 'structural%20failure': 0.6571428571428571,\n",
       " 'hazardous': 0.6285714285714286,\n",
       " 'evacuate': 0.625,\n",
       " 'crashed': 0.6176470588235294,\n",
       " 'refugees': 0.6111111111111112,\n",
       " 'tragedy': 0.6111111111111112,\n",
       " 'attacked': 0.6,\n",
       " 'emergency%20plan': 0.6,\n",
       " 'bioterror': 0.5945945945945946,\n",
       " 'cyclone': 0.59375,\n",
       " 'mass%20murderer': 0.59375,\n",
       " 'devastated': 0.5806451612903226,\n",
       " 'fatalities': 0.5777777777777777,\n",
       " 'collided': 0.575,\n",
       " 'burning%20buildings': 0.5675675675675675,\n",
       " 'police': 0.5675675675675675,\n",
       " 'radiation%20emergency': 0.5555555555555556,\n",
       " 'hijacker': 0.5428571428571428,\n",
       " 'natural%20disaster': 0.5294117647058824,\n",
       " 'rainstorm': 0.5294117647058824,\n",
       " 'engulfed': 0.5277777777777778,\n",
       " 'ambulance': 0.5263157894736842,\n",
       " 'hurricane': 0.5263157894736842,\n",
       " 'lightning': 0.5151515151515151,\n",
       " 'hail': 0.5142857142857142,\n",
       " 'storm': 0.5142857142857142,\n",
       " 'explosion': 0.5128205128205128,\n",
       " 'bombed': 0.5,\n",
       " 'derail': 0.4857142857142857,\n",
       " 'rescued': 0.4857142857142857,\n",
       " 'hijack': 0.48484848484848486,\n",
       " 'hostage': 0.4838709677419355,\n",
       " 'hijacking': 0.46875,\n",
       " 'damage': 0.4634146341463415,\n",
       " 'tornado': 0.45714285714285713,\n",
       " 'chemical%20emergency': 0.45454545454545453,\n",
       " 'seismic': 0.4482758620689655,\n",
       " 'snowstorm': 0.4482758620689655,\n",
       " 'bomb': 0.4411764705882353,\n",
       " 'casualty': 0.4411764705882353,\n",
       " 'collapse': 0.4411764705882353,\n",
       " 'weapons': 0.4358974358974359,\n",
       " 'disaster': 0.42857142857142855,\n",
       " 'flood': 0.42857142857142855,\n",
       " 'landslide': 0.42424242424242425,\n",
       " 'first%20responders': 0.41379310344827586,\n",
       " 'windstorm': 0.4,\n",
       " 'drowned': 0.39473684210526316,\n",
       " 'nuclear%20reactor': 0.3888888888888889,\n",
       " 'electrocuted': 0.38235294117647056,\n",
       " 'emergency': 0.3783783783783784,\n",
       " 'quarantined': 0.3783783783783784,\n",
       " 'eyewitness': 0.375,\n",
       " 'collapsed': 0.37142857142857144,\n",
       " 'crash': 0.36363636363636365,\n",
       " 'ablaze': 0.3611111111111111,\n",
       " 'weapon': 0.358974358974359,\n",
       " 'whirlwind': 0.358974358974359,\n",
       " 'rubble': 0.35714285714285715,\n",
       " 'trauma': 0.3548387096774194,\n",
       " 'annihilation': 0.3448275862068966,\n",
       " 'emergency%20services': 0.3333333333333333,\n",
       " 'flames': 0.3333333333333333,\n",
       " 'mudslide': 0.32432432432432434,\n",
       " 'annihilated': 0.3235294117647059,\n",
       " 'tsunami': 0.3235294117647059,\n",
       " 'thunder': 0.3157894736842105,\n",
       " 'survived': 0.30303030303030304,\n",
       " 'wounds': 0.30303030303030304,\n",
       " 'burning': 0.29411764705882354,\n",
       " 'war%20zone': 0.2916666666666667,\n",
       " 'fire': 0.2894736842105263,\n",
       " 'injury': 0.2894736842105263,\n",
       " 'apocalypse': 0.28125,\n",
       " 'detonation': 0.28125,\n",
       " 'trapped': 0.28125,\n",
       " 'detonate': 0.2777777777777778,\n",
       " 'exploded': 0.2727272727272727,\n",
       " 'injuries': 0.2727272727272727,\n",
       " 'fatality': 0.2702702702702703,\n",
       " 'drowning': 0.2647058823529412,\n",
       " 'deluged': 0.25925925925925924,\n",
       " 'demolition': 0.2571428571428571,\n",
       " 'death': 0.25,\n",
       " 'demolished': 0.25,\n",
       " 'destroyed': 0.25,\n",
       " 'destroy': 0.24324324324324326,\n",
       " 'desolate': 0.2413793103448276,\n",
       " 'sirens': 0.2413793103448276,\n",
       " 'arsonist': 0.23529411764705882,\n",
       " 'military': 0.23529411764705882,\n",
       " 'dead': 0.23333333333333334,\n",
       " 'sunk': 0.23076923076923078,\n",
       " 'rescue': 0.22727272727272727,\n",
       " 'cliff%20fall': 0.2222222222222222,\n",
       " 'danger': 0.2222222222222222,\n",
       " 'pandemonium': 0.21621621621621623,\n",
       " 'burned': 0.21212121212121213,\n",
       " 'hazard': 0.20588235294117646,\n",
       " 'loud%20bang': 0.20588235294117646,\n",
       " 'inundation': 0.2,\n",
       " 'sinking': 0.1951219512195122,\n",
       " 'catastrophe': 0.19444444444444445,\n",
       " 'desolation': 0.19444444444444445,\n",
       " 'battle': 0.19230769230769232,\n",
       " 'wreck': 0.1891891891891892,\n",
       " 'threat': 0.18181818181818182,\n",
       " 'hellfire': 0.1794871794871795,\n",
       " 'destruction': 0.17647058823529413,\n",
       " 'riot': 0.17647058823529413,\n",
       " 'inundated': 0.17142857142857143,\n",
       " 'upheaval': 0.15789473684210525,\n",
       " 'survive': 0.15625,\n",
       " 'blown%20up': 0.15151515151515152,\n",
       " 'body%20bagging': 0.15151515151515152,\n",
       " 'meltdown': 0.15151515151515152,\n",
       " 'trouble': 0.15151515151515152,\n",
       " 'army': 0.14705882352941177,\n",
       " 'demolish': 0.14705882352941177,\n",
       " 'flattened': 0.14705882352941177,\n",
       " 'lava': 0.14705882352941177,\n",
       " 'quarantine': 0.14705882352941177,\n",
       " 'bleeding': 0.14285714285714285,\n",
       " 'blood': 0.14285714285714285,\n",
       " 'deluge': 0.14285714285714285,\n",
       " 'screams': 0.14285714285714285,\n",
       " 'obliteration': 0.13793103448275862,\n",
       " 'curfew': 0.13513513513513514,\n",
       " 'avalanche': 0.13333333333333333,\n",
       " 'blaze': 0.13157894736842105,\n",
       " 'crushed': 0.12903225806451613,\n",
       " 'obliterate': 0.12903225806451613,\n",
       " 'obliterated': 0.12903225806451613,\n",
       " 'fear': 0.125,\n",
       " 'siren': 0.125,\n",
       " 'twister': 0.125,\n",
       " 'armageddon': 0.11904761904761904,\n",
       " 'screamed': 0.11764705882352941,\n",
       " 'blizzard': 0.10810810810810811,\n",
       " 'crush': 0.10810810810810811,\n",
       " 'mayhem': 0.1,\n",
       " 'harm': 0.0975609756097561,\n",
       " 'drown': 0.09375,\n",
       " 'stretcher': 0.09090909090909091,\n",
       " 'collide': 0.08823529411764706,\n",
       " 'smoke': 0.08823529411764706,\n",
       " 'bloody': 0.08571428571428572,\n",
       " 'epicentre': 0.08333333333333333,\n",
       " 'panic': 0.08108108108108109,\n",
       " 'explode': 0.07894736842105263,\n",
       " 'wrecked': 0.07692307692307693,\n",
       " 'blight': 0.0625,\n",
       " 'blew%20up': 0.06060606060606061,\n",
       " 'panicking': 0.06060606060606061,\n",
       " 'traumatised': 0.05714285714285714,\n",
       " 'screaming': 0.05555555555555555,\n",
       " 'electrocute': 0.03125,\n",
       " 'body%20bag': 0.030303030303030304,\n",
       " 'blazing': 0.029411764705882353,\n",
       " 'ruin': 0.02702702702702703,\n",
       " 'body%20bags': 0.024390243902439025,\n",
       " 'aftershock': 0.0}"
      ]
     },
     "execution_count": 18,
     "metadata": {},
     "output_type": "execute_result"
    }
   ],
   "source": [
    "disaster_keywords"
   ]
  },
  {
   "cell_type": "markdown",
   "id": "8d4f291f",
   "metadata": {},
   "source": [
    "Il y a clairement des mots qui sont en lien avec les tweets désastreux. Je pense qu'un premier travail serait de faire 3 catégories et placés les mots dedans.\n",
    "\n",
    "Desastre : >=0.8\n",
    "Quasi désastre >=0.5\n",
    "Faible désastre < 0.5"
   ]
  },
  {
   "cell_type": "code",
   "execution_count": 19,
   "id": "504a8f89",
   "metadata": {},
   "outputs": [],
   "source": [
    "def disaster_words_apply(word):\n",
    "    if disaster_keywords[word] >= 0.8:\n",
    "        return 2 #Disaster\n",
    "    elif disaster_keywords[word] >= 0.5:\n",
    "        return 1 #Almost Disaster\n",
    "    else:\n",
    "        return 0 #Weak Disaster"
   ]
  },
  {
   "cell_type": "code",
   "execution_count": 20,
   "id": "27f1bfd7",
   "metadata": {},
   "outputs": [],
   "source": [
    "train_df[\"keyword\"] = train_df[\"keyword\"].apply(disaster_words_apply)"
   ]
  },
  {
   "cell_type": "code",
   "execution_count": 21,
   "id": "093adbea",
   "metadata": {},
   "outputs": [
    {
     "data": {
      "text/plain": [
       "array([1, 0, 2])"
      ]
     },
     "execution_count": 21,
     "metadata": {},
     "output_type": "execute_result"
    }
   ],
   "source": [
    "train_df[\"keyword\"].unique()"
   ]
  },
  {
   "cell_type": "code",
   "execution_count": 22,
   "id": "fd19c9e0",
   "metadata": {},
   "outputs": [
    {
     "data": {
      "text/plain": [
       "<AxesSubplot:xlabel='keyword', ylabel='count'>"
      ]
     },
     "execution_count": 22,
     "metadata": {},
     "output_type": "execute_result"
    },
    {
     "data": {
      "image/png": "[encoded data removed]",
      "text/plain": [
       "<Figure size 432x288 with 1 Axes>"
      ]
     },
     "metadata": {
      "needs_background": "light"
     },
     "output_type": "display_data"
    }
   ],
   "source": [
    "sns.countplot(x = \"keyword\", hue = \"target\", data = train_df)"
   ]
  },
  {
   "cell_type": "markdown",
   "id": "050307fe",
   "metadata": {},
   "source": [
    "Dans un premier temps, je suis pas trop mal pour prédire les désastres en fonction des keywords"
   ]
  },
  {
   "cell_type": "code",
   "execution_count": 23,
   "id": "38d1673a",
   "metadata": {},
   "outputs": [],
   "source": [
    "test_df[\"keyword\"] = test_df[\"keyword\"].fillna(\"\")\n",
    "test_df[\"keyword\"] = test_df[\"keyword\"].apply(disaster_words_apply)"
   ]
  },
  {
   "cell_type": "markdown",
   "id": "48a763f2",
   "metadata": {},
   "source": [
    "# Analyse des contenus des tweets"
   ]
  },
  {
   "cell_type": "markdown",
   "id": "4480d1e3",
   "metadata": {},
   "source": [
    "Tutoriel sur lequel je me suis basé pour utiliser nltk\n",
    "https://realpython.com/nltk-nlp-python/\n"
   ]
  },
  {
   "cell_type": "code",
   "execution_count": 24,
   "id": "bd04592d",
   "metadata": {},
   "outputs": [
    {
     "name": "stderr",
     "output_type": "stream",
     "text": [
      "[nltk_data] Downloading package punkt to /home/baptiste/nltk_data...\n",
      "[nltk_data]   Package punkt is already up-to-date!\n",
      "[nltk_data] Downloading package stopwords to\n",
      "[nltk_data]     /home/baptiste/nltk_data...\n",
      "[nltk_data]   Package stopwords is already up-to-date!\n",
      "[nltk_data] Downloading package averaged_perceptron_tagger to\n",
      "[nltk_data]     /home/baptiste/nltk_data...\n",
      "[nltk_data]   Package averaged_perceptron_tagger is already up-to-\n",
      "[nltk_data]       date!\n",
      "[nltk_data] Downloading package words to /home/baptiste/nltk_data...\n",
      "[nltk_data]   Package words is already up-to-date!\n"
     ]
    }
   ],
   "source": [
    "import nltk\n",
    "nltk.download('punkt')\n",
    "nltk.download(\"stopwords\")\n",
    "nltk.download('averaged_perceptron_tagger')\n",
    "nltk.download('words')\n",
    "words = nltk.corpus.words.words()"
   ]
  },
  {
   "cell_type": "code",
   "execution_count": 25,
   "id": "e682bc4c",
   "metadata": {},
   "outputs": [],
   "source": [
    "from nltk.tokenize import sent_tokenize, word_tokenize\n",
    "from nltk.corpus import stopwords"
   ]
  },
  {
   "cell_type": "code",
   "execution_count": 26,
   "id": "18ed8bd6",
   "metadata": {},
   "outputs": [
    {
     "data": {
      "text/plain": [
       "{'a',\n",
       " 'about',\n",
       " 'above',\n",
       " 'after',\n",
       " 'again',\n",
       " 'against',\n",
       " 'ain',\n",
       " 'all',\n",
       " 'am',\n",
       " 'an',\n",
       " 'and',\n",
       " 'any',\n",
       " 'are',\n",
       " 'aren',\n",
       " \"aren't\",\n",
       " 'as',\n",
       " 'at',\n",
       " 'be',\n",
       " 'because',\n",
       " 'been',\n",
       " 'before',\n",
       " 'being',\n",
       " 'below',\n",
       " 'between',\n",
       " 'both',\n",
       " 'but',\n",
       " 'by',\n",
       " 'can',\n",
       " 'couldn',\n",
       " \"couldn't\",\n",
       " 'd',\n",
       " 'did',\n",
       " 'didn',\n",
       " \"didn't\",\n",
       " 'do',\n",
       " 'does',\n",
       " 'doesn',\n",
       " \"doesn't\",\n",
       " 'doing',\n",
       " 'don',\n",
       " \"don't\",\n",
       " 'down',\n",
       " 'during',\n",
       " 'each',\n",
       " 'few',\n",
       " 'for',\n",
       " 'from',\n",
       " 'further',\n",
       " 'had',\n",
       " 'hadn',\n",
       " \"hadn't\",\n",
       " 'has',\n",
       " 'hasn',\n",
       " \"hasn't\",\n",
       " 'have',\n",
       " 'haven',\n",
       " \"haven't\",\n",
       " 'having',\n",
       " 'he',\n",
       " 'her',\n",
       " 'here',\n",
       " 'hers',\n",
       " 'herself',\n",
       " 'him',\n",
       " 'himself',\n",
       " 'his',\n",
       " 'how',\n",
       " 'i',\n",
       " 'if',\n",
       " 'in',\n",
       " 'into',\n",
       " 'is',\n",
       " 'isn',\n",
       " \"isn't\",\n",
       " 'it',\n",
       " \"it's\",\n",
       " 'its',\n",
       " 'itself',\n",
       " 'just',\n",
       " 'll',\n",
       " 'm',\n",
       " 'ma',\n",
       " 'me',\n",
       " 'mightn',\n",
       " \"mightn't\",\n",
       " 'more',\n",
       " 'most',\n",
       " 'mustn',\n",
       " \"mustn't\",\n",
       " 'my',\n",
       " 'myself',\n",
       " 'needn',\n",
       " \"needn't\",\n",
       " 'no',\n",
       " 'nor',\n",
       " 'not',\n",
       " 'now',\n",
       " 'o',\n",
       " 'of',\n",
       " 'off',\n",
       " 'on',\n",
       " 'once',\n",
       " 'only',\n",
       " 'or',\n",
       " 'other',\n",
       " 'our',\n",
       " 'ours',\n",
       " 'ourselves',\n",
       " 'out',\n",
       " 'over',\n",
       " 'own',\n",
       " 're',\n",
       " 's',\n",
       " 'same',\n",
       " 'shan',\n",
       " \"shan't\",\n",
       " 'she',\n",
       " \"she's\",\n",
       " 'should',\n",
       " \"should've\",\n",
       " 'shouldn',\n",
       " \"shouldn't\",\n",
       " 'so',\n",
       " 'some',\n",
       " 'such',\n",
       " 't',\n",
       " 'than',\n",
       " 'that',\n",
       " \"that'll\",\n",
       " 'the',\n",
       " 'their',\n",
       " 'theirs',\n",
       " 'them',\n",
       " 'themselves',\n",
       " 'then',\n",
       " 'there',\n",
       " 'these',\n",
       " 'they',\n",
       " 'this',\n",
       " 'those',\n",
       " 'through',\n",
       " 'to',\n",
       " 'too',\n",
       " 'under',\n",
       " 'until',\n",
       " 'up',\n",
       " 've',\n",
       " 'very',\n",
       " 'was',\n",
       " 'wasn',\n",
       " \"wasn't\",\n",
       " 'we',\n",
       " 'were',\n",
       " 'weren',\n",
       " \"weren't\",\n",
       " 'what',\n",
       " 'when',\n",
       " 'where',\n",
       " 'which',\n",
       " 'while',\n",
       " 'who',\n",
       " 'whom',\n",
       " 'why',\n",
       " 'will',\n",
       " 'with',\n",
       " 'won',\n",
       " \"won't\",\n",
       " 'wouldn',\n",
       " \"wouldn't\",\n",
       " 'y',\n",
       " 'you',\n",
       " \"you'd\",\n",
       " \"you'll\",\n",
       " \"you're\",\n",
       " \"you've\",\n",
       " 'your',\n",
       " 'yours',\n",
       " 'yourself',\n",
       " 'yourselves'}"
      ]
     },
     "execution_count": 26,
     "metadata": {},
     "output_type": "execute_result"
    }
   ],
   "source": [
    "stop_words = set(stopwords.words(\"english\"))\n",
    "stop_words"
   ]
  },
  {
   "cell_type": "code",
   "execution_count": 27,
   "id": "6da724ca",
   "metadata": {},
   "outputs": [],
   "source": [
    "stop_words.add(\"#\")"
   ]
  },
  {
   "cell_type": "code",
   "execution_count": 28,
   "id": "fd0c3fac",
   "metadata": {},
   "outputs": [],
   "source": [
    "from nltk.stem import PorterStemmer, SnowballStemmer"
   ]
  },
  {
   "cell_type": "code",
   "execution_count": 29,
   "id": "b79f8925",
   "metadata": {},
   "outputs": [],
   "source": [
    "stemmer = SnowballStemmer(language = \"english\")\n",
    "# Il existe plusieurs type de Stemmer mais pour cette exercice je vais utiliser le même stemmer que celui du tutoriel de nltk\n",
    "# Il est expliqué que le PorterStemmer est un vieux algorithme et que ce serait bien d'utiliser une version plus récente comme\n",
    "# le Snowball stemmer\n",
    "# Le PorterStemmer a des défauts et peu laisser des mots en UnderStemming ou OverStemming (voir site tuto nltk)"
   ]
  },
  {
   "cell_type": "code",
   "execution_count": 30,
   "id": "188e710b",
   "metadata": {},
   "outputs": [
    {
     "name": "stdout",
     "output_type": "stream",
     "text": [
      "Our Deeds are the Reason of this #earthquake May ALLAH Forgive us all\n",
      "0                                [earthquak]\n",
      "1                                     [fire]\n",
      "2    [shelter, place, evacu, shelter, place]\n",
      "3                                   [receiv]\n",
      "4                     [photo, smoke, school]\n",
      "Name: text, dtype: object\n"
     ]
    }
   ],
   "source": [
    "import string\n",
    "\n",
    "tweets = train_df[\"text\"]\n",
    "\n",
    "print(tweets[0])\n",
    "\n",
    "# Tokenisation de la phrase par les mots\n",
    "tweets = tweets.apply(nltk.word_tokenize)\n",
    "\n",
    "for i, tweet in enumerate(tweets):\n",
    "    # Suppression des noms propres grâce à l'utilisation de pos tag\n",
    "    tagged_sentence = nltk.tag.pos_tag(tweet)\n",
    "    tweet = [word for word,tag in tagged_sentence if tag != 'NNP' and tag != 'NNPS']\n",
    "    \n",
    "    tweet = [word for word,tag in tagged_sentence if tag == 'NN' or tag == 'VB' or tag == 'JJ']\n",
    "    # Suppression des stop words\n",
    "    tweet = [word.lower() for word in tweet if word.lower() not in stop_words]\n",
    "\n",
    "    tagged_sentence = nltk.tag.pos_tag(tweet)\n",
    "    tweet = [word for word,tag in tagged_sentence if tag != 'X']\n",
    "    \n",
    "    #tweet = [word for word in words]\n",
    "    \n",
    "    # Utilisation d'un stemmer, c'est à dire une fonction qui réduit un mot à sa racine.\n",
    "    tweet = [stemmer.stem(word) for word in tweet]\n",
    "\n",
    "    # isalpha permet de supprimer les nombres et la ponctuation\n",
    "    tweet = [word for word in tweet if word.isalpha()]\n",
    "    \n",
    "    tweets[i] = tweet\n",
    "\n",
    "    \n",
    "print(tweets[0:5])"
   ]
  },
  {
   "cell_type": "code",
   "execution_count": 31,
   "id": "9471ea58",
   "metadata": {},
   "outputs": [],
   "source": [
    "#tweets = tweets.tolist()"
   ]
  },
  {
   "cell_type": "code",
   "execution_count": 32,
   "id": "484d8468",
   "metadata": {},
   "outputs": [],
   "source": [
    "from sklearn.feature_extraction.text import TfidfVectorizer"
   ]
  },
  {
   "cell_type": "code",
   "execution_count": 33,
   "id": "988ab372",
   "metadata": {},
   "outputs": [],
   "source": [
    "def dummy_fun(doc):\n",
    "    return doc\n",
    "\n",
    "vectorizer = TfidfVectorizer(\n",
    "    lowercase = False,\n",
    "    tokenizer=dummy_fun,\n",
    "    preprocessor=dummy_fun)\n",
    "\n",
    "tweets = vectorizer.fit_transform(tweets)"
   ]
  },
  {
   "cell_type": "code",
   "execution_count": 34,
   "id": "f9d59bb8",
   "metadata": {},
   "outputs": [],
   "source": [
    "tweets = tweets.toarray()"
   ]
  },
  {
   "cell_type": "code",
   "execution_count": 35,
   "id": "0101b551",
   "metadata": {},
   "outputs": [
    {
     "data": {
      "text/plain": [
       "7613"
      ]
     },
     "execution_count": 35,
     "metadata": {},
     "output_type": "execute_result"
    }
   ],
   "source": [
    "len(tweets)"
   ]
  },
  {
   "cell_type": "code",
   "execution_count": 36,
   "id": "294e8e5b",
   "metadata": {},
   "outputs": [
    {
     "data": {
      "text/plain": [
       "numpy.ndarray"
      ]
     },
     "execution_count": 36,
     "metadata": {},
     "output_type": "execute_result"
    }
   ],
   "source": [
    "type(tweets)"
   ]
  },
  {
   "cell_type": "code",
   "execution_count": 37,
   "id": "a5430570",
   "metadata": {},
   "outputs": [],
   "source": [
    "keywords = train_df[\"keyword\"].to_numpy()"
   ]
  },
  {
   "cell_type": "code",
   "execution_count": 38,
   "id": "47d5d89e",
   "metadata": {},
   "outputs": [
    {
     "data": {
      "text/plain": [
       "array([[1],\n",
       "       [1],\n",
       "       [1],\n",
       "       ...,\n",
       "       [1],\n",
       "       [1],\n",
       "       [1]])"
      ]
     },
     "execution_count": 38,
     "metadata": {},
     "output_type": "execute_result"
    }
   ],
   "source": [
    "np.array([keywords]).T"
   ]
  },
  {
   "cell_type": "code",
   "execution_count": 39,
   "id": "8a485ffd",
   "metadata": {},
   "outputs": [
    {
     "data": {
      "text/plain": [
       "7613"
      ]
     },
     "execution_count": 39,
     "metadata": {},
     "output_type": "execute_result"
    }
   ],
   "source": [
    "len(keywords)"
   ]
  },
  {
   "cell_type": "code",
   "execution_count": 40,
   "id": "80a1d594",
   "metadata": {},
   "outputs": [],
   "source": [
    "#X = tweets"
   ]
  },
  {
   "cell_type": "code",
   "execution_count": 41,
   "id": "c4234e2e",
   "metadata": {},
   "outputs": [],
   "source": [
    "X = np.concatenate((np.array([keywords]).T, tweets), axis = 1)"
   ]
  },
  {
   "cell_type": "code",
   "execution_count": 42,
   "id": "5b570898",
   "metadata": {},
   "outputs": [],
   "source": [
    "y = train_df[\"target\"]"
   ]
  },
  {
   "cell_type": "markdown",
   "id": "cacebfc4",
   "metadata": {},
   "source": [
    "Maintenant que j'ai un jeu de données qui est nettoyer, je vais pourvoir comment à m'amuser et faire un premier test sur l'efficacité des données"
   ]
  },
  {
   "cell_type": "code",
   "execution_count": 43,
   "id": "c8f2235a",
   "metadata": {},
   "outputs": [],
   "source": [
    "from sklearn.model_selection import train_test_split"
   ]
  },
  {
   "cell_type": "code",
   "execution_count": 44,
   "id": "9bb698ac",
   "metadata": {},
   "outputs": [],
   "source": [
    "X_train, X_test, y_train, y_test = train_test_split(\n",
    "    X, y, test_size = 0.3, random_state = 16)"
   ]
  },
  {
   "cell_type": "markdown",
   "id": "9a9057cc",
   "metadata": {},
   "source": [
    "# Training phase"
   ]
  },
  {
   "cell_type": "code",
   "execution_count": 45,
   "id": "6f926879",
   "metadata": {},
   "outputs": [],
   "source": [
    "from sklearn.linear_model import LogisticRegression\n",
    "from sklearn.svm import LinearSVC\n",
    "from sklearn.tree import DecisionTreeClassifier\n",
    "from sklearn.ensemble import RandomForestClassifier\n",
    "from sklearn.naive_bayes import GaussianNB\n",
    "from sklearn.neighbors import KNeighborsClassifier"
   ]
  },
  {
   "cell_type": "code",
   "execution_count": 46,
   "id": "6d2cd095",
   "metadata": {},
   "outputs": [],
   "source": [
    "models = []\n",
    "models.append((\"SVC\", LinearSVC()))\n",
    "models.append((\"LogisticRegression\", LogisticRegression()))\n",
    "models.append((\"RandomForestClassifier\", RandomForestClassifier()))\n",
    "models.append((\"GaussianNB\", GaussianNB()))\n",
    "models.append((\"NearestNeighbors\", KNeighborsClassifier(n_neighbors = 9)))"
   ]
  },
  {
   "cell_type": "code",
   "execution_count": 47,
   "id": "aab0a6e3",
   "metadata": {},
   "outputs": [
    {
     "name": "stdout",
     "output_type": "stream",
     "text": [
      "SVC : 0.7570052539404554\n",
      "LogisticRegression : 0.7618213660245184\n",
      "RandomForestClassifier : 0.7688266199649737\n",
      "GaussianNB : 0.5468476357267951\n",
      "NearestNeighbors : 0.7088441330998249\n"
     ]
    }
   ],
   "source": [
    "for name, model in models:\n",
    "    model = model.fit(X_train, y_train)\n",
    "    score = model.score(X_test, y_test)\n",
    "    print(\"{name_model} : {score}\".format(name_model=name, score=score))"
   ]
  },
  {
   "cell_type": "markdown",
   "id": "3c8d0ba5",
   "metadata": {},
   "source": [
    "from lightpredict import LightClassifier\n",
    "import warnings\n",
    "warnings.filterwarnings('ignore')\n",
    "\n",
    "lcf = LightClassifier()\n",
    "lcf.fit(X_train, X_test, y_train, y_test, rounds=3, plot = True)"
   ]
  }
 ],
 "metadata": {
  "kernelspec": {
   "display_name": "Python 3 (ipykernel)",
   "language": "python",
   "name": "python3"
  },
  "language_info": {
   "codemirror_mode": {
    "name": "ipython",
    "version": 3
   },
   "file_extension": ".py",
   "mimetype": "text/x-python",
   "name": "python",
   "nbconvert_exporter": "python",
   "pygments_lexer": "ipython3",
   "version": "3.8.10"
  }
 },
 "nbformat": 4,
 "nbformat_minor": 5
}
